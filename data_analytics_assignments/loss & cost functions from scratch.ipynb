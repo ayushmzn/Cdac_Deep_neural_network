{
 "cells": [
  {
   "cell_type": "code",
   "execution_count": 2,
   "id": "1cd30070",
   "metadata": {},
   "outputs": [],
   "source": [
    "import numpy as np"
   ]
  },
  {
   "cell_type": "markdown",
   "id": "a0ce3062",
   "metadata": {},
   "source": [
    "take an random array of true and predicted values"
   ]
  },
  {
   "cell_type": "code",
   "execution_count": 17,
   "id": "a0ef81ff",
   "metadata": {},
   "outputs": [],
   "source": [
    "ytrue = np.array([1, .07, .8, 0, 1, .75])\n",
    "ypred = np.array([1, 0, 0, 1, 1, 0])"
   ]
  },
  {
   "cell_type": "code",
   "execution_count": 4,
   "id": "10f2f135",
   "metadata": {},
   "outputs": [],
   "source": [
    "def mean_absolute_error(ytrue, ypred):\n",
    "    err = 0\n",
    "    for yt, yp in zip(ytrue, ypred):\n",
    "        err += abs(yt-yp)\n",
    "    print('total error is:', err)\n",
    "    print('mean absolute error:', err/len(ytrue))"
   ]
  },
  {
   "cell_type": "markdown",
   "id": "c0de2df7",
   "metadata": {},
   "source": [
    "calling the function"
   ]
  },
  {
   "cell_type": "code",
   "execution_count": 5,
   "id": "025b4f6f",
   "metadata": {},
   "outputs": [
    {
     "name": "stdout",
     "output_type": "stream",
     "text": [
      "total error is: 2.62\n",
      "mean absolute error: 0.4366666666666667\n"
     ]
    }
   ],
   "source": [
    "mean_absolute_error(ytrue, ypred)"
   ]
  },
  {
   "cell_type": "code",
   "execution_count": 6,
   "id": "290aed15",
   "metadata": {},
   "outputs": [],
   "source": [
    "def root_mean_squared_error(ytrue, ypred):\n",
    "    err = 0\n",
    "    for yt, yp in zip(ytrue, ypred):\n",
    "        err += (yt-yp)**2\n",
    "    rmse = (err/len(ytrue))**0.5\n",
    "    print('root_mean_squared_error', rmse)"
   ]
  },
  {
   "cell_type": "code",
   "execution_count": 7,
   "id": "82835e3b",
   "metadata": {},
   "outputs": [
    {
     "name": "stdout",
     "output_type": "stream",
     "text": [
      "root_mean_squared_error 0.60654760736483\n"
     ]
    }
   ],
   "source": [
    "root_mean_squared_error(ytrue, ypred)"
   ]
  },
  {
   "attachments": {},
   "cell_type": "markdown",
   "id": "29898afc",
   "metadata": {},
   "source": [
    "# binary cross entropy/log loss                                                                                   "
   ]
  },
  {
   "cell_type": "markdown",
   "id": "42344a16",
   "metadata": {},
   "source": [
    "converting 1 to approx (0.99999) and 0 to (0.00001) because log(1) is 0 and log(0) is infinity"
   ]
  },
  {
   "cell_type": "code",
   "execution_count": 22,
   "id": "ecbf2470",
   "metadata": {},
   "outputs": [],
   "source": [
    "def log_loss(ytrue, ypred):\n",
    "    ep = 1e-15\n",
    "    ypred_new = [max([i, ep]) for i in ypred]\n",
    "    ypred_new = [min([i, 1-ep]) for i in ypred_new]\n",
    "    ypred_new = np.array(ypred_new)\n",
    "    ytrue = np.array(ytrue)\n",
    "    l_l = -np.mean(ytrue * np.log(ypred_new) + (1 - ytrue) * (1 - np.log(ypred_new)))\n",
    "    print('log loss is : ', l_l)"
   ]
  },
  {
   "cell_type": "code",
   "execution_count": 23,
   "id": "2884a01b",
   "metadata": {},
   "outputs": [
    {
     "name": "stdout",
     "output_type": "stream",
     "text": [
      "log loss is :  0.9848843891297617\n"
     ]
    }
   ],
   "source": [
    "log_loss(ytrue, ypred)"
   ]
  },
  {
   "cell_type": "markdown",
   "id": "7617c0b5",
   "metadata": {},
   "source": [
    "# mean squared error from numpy"
   ]
  },
  {
   "cell_type": "code",
   "execution_count": 24,
   "id": "c3586c1b",
   "metadata": {},
   "outputs": [
    {
     "name": "stdout",
     "output_type": "stream",
     "text": [
      "mean squared error is :  0.36790000000000006\n"
     ]
    }
   ],
   "source": [
    "mse = np.mean((ytrue-ypred)**2)\n",
    "print('mean squared error is : ', mse)"
   ]
  },
  {
   "cell_type": "code",
   "execution_count": null,
   "id": "20d4c765",
   "metadata": {},
   "outputs": [],
   "source": []
  }
 ],
 "metadata": {
  "kernelspec": {
   "display_name": "Python 3 (ipykernel)",
   "language": "python",
   "name": "python3"
  },
  "language_info": {
   "codemirror_mode": {
    "name": "ipython",
    "version": 3
   },
   "file_extension": ".py",
   "mimetype": "text/x-python",
   "name": "python",
   "nbconvert_exporter": "python",
   "pygments_lexer": "ipython3",
   "version": "3.9.7"
  }
 },
 "nbformat": 4,
 "nbformat_minor": 5
}
